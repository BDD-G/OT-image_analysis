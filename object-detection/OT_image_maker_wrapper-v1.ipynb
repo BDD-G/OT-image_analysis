{
 "cells": [
  {
   "attachments": {},
   "cell_type": "markdown",
   "metadata": {},
   "source": [
    "# Welcome to OT as Plate filler script \n",
    "\n",
    "start with choosing the number of plates that you want to run and then continue on to setting up the deck. \n",
    "\n",
    "FIND SCRIPT ON ROBOT OT028 IN FOLDER Vilhelms_sandbox"
   ]
  },
  {
   "cell_type": "code",
   "execution_count": 5,
   "metadata": {},
   "outputs": [
    {
     "name": "stderr",
     "output_type": "stream",
     "text": [
      "'systemctl' is not recognized as an internal or external command,\n",
      "operable program or batch file.\n"
     ]
    }
   ],
   "source": [
    "## insures that robot is correctly initialized\n",
    "!systemctl stop opentrons-robot-server"
   ]
  },
  {
   "cell_type": "code",
   "execution_count": 6,
   "metadata": {},
   "outputs": [
    {
     "ename": "ModuleNotFoundError",
     "evalue": "No module named 'opentrons'",
     "output_type": "error",
     "traceback": [
      "\u001b[1;31m---------------------------------------------------------------------------\u001b[0m",
      "\u001b[1;31mModuleNotFoundError\u001b[0m                       Traceback (most recent call last)",
      "Cell \u001b[1;32mIn[6], line 15\u001b[0m\n\u001b[0;32m     13\u001b[0m \u001b[39mfrom\u001b[39;00m \u001b[39mtime\u001b[39;00m \u001b[39mimport\u001b[39;00m sleep\n\u001b[0;32m     14\u001b[0m \u001b[39m# # Import opentrons.execute\u001b[39;00m\n\u001b[1;32m---> 15\u001b[0m \u001b[39mimport\u001b[39;00m \u001b[39mopentrons\u001b[39;00m\u001b[39m.\u001b[39;00m\u001b[39mexecute\u001b[39;00m\n",
      "\u001b[1;31mModuleNotFoundError\u001b[0m: No module named 'opentrons'"
     ]
    }
   ],
   "source": [
    "# import the script you wnat to run \n",
    "import sys\n",
    "import pandas as pd\n",
    "import os, shutil\n",
    "# from datetime import datetime\n",
    "from IPython.display import Markdown as md\n",
    "# ## start email and camera functions\n",
    "import subprocess\n",
    "import smtplib\n",
    "import datetime\n",
    "from datetime import date\n",
    "import os\n",
    "from time import sleep\n",
    "# # Import opentrons.execute\n",
    "import opentrons.execute\n"
   ]
  },
  {
   "attachments": {},
   "cell_type": "markdown",
   "metadata": {},
   "source": [
    "# Initiate Robot "
   ]
  },
  {
   "cell_type": "code",
   "execution_count": null,
   "metadata": {},
   "outputs": [],
   "source": [
    "\n",
    "# import datetime\n",
    "from opentrons import types\n",
    "from time import sleep\n",
    "\n",
    "\n",
    "def camera(name_of_image, protocol): \n",
    "    \"\"\" Take picture with the OT camera, runs bash command \n",
    "    input: users name of image\n",
    "    output: image in directory \n",
    "    \"\"\"\n",
    "\n",
    "    # camerapath = '/dev/video0'\n",
    "    # camerapath = '/dev/video1'\n",
    "    camerapath = '/dev/video2'\n",
    "    subprocess.check_call(['ffmpeg', '-y', '-f', 'video4linux2', '-s',\n",
    "                       '640x480', '-i', camerapath, '-ss', '0:0:1', \n",
    "                       '-frames', '1', os.path.abspath('.') + '/pictures/' + name_of_image +'.jpg']) \n",
    "\n",
    "\n",
    "    print('Cammera on')\n",
    "\n",
    "protocol = opentrons.execute.get_protocol_api('2.11')\n",
    "\n",
    "protocol.home()\n"
   ]
  },
  {
   "cell_type": "code",
   "execution_count": null,
   "metadata": {},
   "outputs": [],
   "source": [
    "protocol = opentrons.execute.get_protocol_api('2.11')\n",
    "\n",
    "##### RUN CODE ON OPENTRONS\n",
    "p300tips = [protocol.load_labware('opentrons_96_tiprack_300ul', 11)]\n",
    "p300 = protocol.load_instrument('p300_multi', 'right', tip_racks=p300tips)\n",
    "\n",
    "fake_plate = protocol.load_labware('agilent_1_reservoir_290ml', 6)\n",
    "\n",
    "microplate_type = 'nest_96_wellplate_200ul_flat'\n",
    "microplates = [protocol.load_labware(microplate_type, s) for s in ['4']]\n",
    "\n",
    "hight = 20\n",
    "center_location = fake_plate['A1'].top()\n",
    "combe_move_right = center_location.move(types.Point(x=50, y=0, z=hight))\n",
    "combe_move_left = center_location.move(types.Point(x=-50, y=0, z=hight))"
   ]
  },
  {
   "attachments": {},
   "cell_type": "markdown",
   "metadata": {},
   "source": [
    "# Start Run"
   ]
  },
  {
   "cell_type": "code",
   "execution_count": null,
   "metadata": {},
   "outputs": [],
   "source": [
    "import json\n",
    "import numpy as np\n",
    "\n",
    "## Turn on lights while running run\n",
    "protocol.set_rail_lights(True)\n",
    "\n",
    "#saved image\n",
    "source = 'save-image-to-path'\n",
    "image_name = 'name-of-image'\n",
    "\n",
    "#detect file\n",
    "file_path = 'detect-python-file-path'\n",
    "#arguments = [\"--source\", source,'--save-txt'] \n",
    "\n",
    "\n",
    "# Take picture of the liquid level\n",
    "p300.pick_up_tip(p300tips[0]['A1'])\n",
    "p300.aspirate(150, microplates[0]['A1'].bottom(1))\n",
    "p300.move_to(combe_move_right)\n",
    "camera(f'liquid_level', protocol)\n",
    "image_path_ll = os.path.join(source, 'liquid_level') #path of the liquid level image\n",
    "arguments_txt = [\"--source\", image_path_ll,'--save-txt']# important to keep the '--save-txt'\n",
    "\n",
    "completed_process = subprocess.run([\"python\", file_path] + arguments_txt, capture_output=True, text=True)\n",
    "output = completed_process.stdout"
   ]
  },
  {
   "cell_type": "code",
   "execution_count": null,
   "metadata": {},
   "outputs": [],
   "source": [
    "def find_key_value_by_keyword(dictionary, keyword):\n",
    "    key_value_dict = {key: value for key, value in dictionary.items() if keyword in key and value}\n",
    "    key_value_dict = list(key_value_dict.values())\n",
    "    key_value = list()\n",
    "    for value in key_value_dict[0]:\n",
    "        key_value.append(value['bbox'])\n",
    "    return key_value"
   ]
  },
  {
   "cell_type": "code",
   "execution_count": null,
   "metadata": {},
   "outputs": [],
   "source": [
    "def detect(output1):\n",
    "    bbox_dict1 = output1\n",
    "    bbox_dict = json.loads(bbox_dict1)\n",
    "    tips = find_key_value_by_keyword(bbox_dict, 'tip')\n",
    "    if len(tips) != 8:\n",
    "        print(len(tips))\n",
    "        print('error')\n",
    "        p300.pause(\"error\") \n",
    "        liquids = [None]   \n",
    "    else:\n",
    "        liquids = find_key_value_by_keyword(bbox_dict, 'liquid')\n",
    "    return tips,liquids"
   ]
  },
  {
   "cell_type": "code",
   "execution_count": null,
   "metadata": {},
   "outputs": [],
   "source": [
    "def save_threshold(boxes1, boxes2):\n",
    "    matched_boxes = []\n",
    "    liquid_level_all = []\n",
    "\n",
    "    for box1 in boxes1:\n",
    "        min_distance = float('inf')\n",
    "        matched_box = None\n",
    "     \n",
    "        for box2 in boxes2:\n",
    "            distance = abs(box1[0] - box2[0])\n",
    "            if distance < min_distance:\n",
    "                min_distance = distance\n",
    "                matched_box = box2\n",
    "\n",
    "        if matched_box is not None:\n",
    "            liquid_level = abs(box1[1] / matched_box[1])\n",
    "            matched_boxes.append((box1, matched_box))\n",
    "            liquid_level_all.append(liquid_level)\n",
    "    ### not use numpy\n",
    "    #total = sum(arr)\n",
    "    #length = len(arr)\n",
    "    #average = total / length\n",
    "    liquid_level_mean = np.mean(liquid_level_all)\n",
    "    print(liquid_level_mean)\n",
    "    \n",
    "    return liquid_level_mean"
   ]
  },
  {
   "cell_type": "code",
   "execution_count": null,
   "metadata": {},
   "outputs": [],
   "source": [
    "def match_boxes(boxes1, boxes2, threshold):\n",
    "    matched_boxes = []\n",
    "\n",
    "    for box1 in boxes1:\n",
    "        min_distance = float('inf')\n",
    "        matched_box = None\n",
    "\n",
    "        for box2 in boxes2:\n",
    "            distance = abs(box1[0] - box2[0])\n",
    "            if distance < min_distance:\n",
    "                min_distance = distance\n",
    "                matched_box = box2\n",
    "\n",
    "        if matched_box is not None:\n",
    "            liquid_level = abs(box1[1] / matched_box[1])\n",
    "            # 预警\n",
    "            if 0.8 * threshold < liquid_level < 1.1*threshold:\n",
    "                print('no warning')\n",
    "            else:\n",
    "                print(f'Warning: Liquid level is below the threshold! Current level: {liquid_level}')\n",
    "            matched_boxes.append((box1, matched_box))\n",
    "\n",
    "    return"
   ]
  },
  {
   "cell_type": "code",
   "execution_count": null,
   "metadata": {},
   "outputs": [],
   "source": [
    "tips,liquids = detect(output)\n",
    "threshold = save_threshold(tips,liquids)\n",
    "p300.dispense(160, microplates[0]['A1'].bottom(1))\n",
    "p300.return_tip(p300tips[0]['A1'])\n",
    "protocol.home()"
   ]
  },
  {
   "cell_type": "code",
   "execution_count": null,
   "metadata": {},
   "outputs": [],
   "source": [
    "## LOOP START\n",
    "for i in range(20):\n",
    "    source_name = f'{image_name}_{i+1}'\n",
    "    source_path = f'{source}{source_name}'\n",
    "    arguments = [\"--source\", source_path,'--save-txt']\n",
    "    \n",
    "    #take tips\n",
    "    p300.pick_up_tip(p300tips[0]['A1'])\n",
    "    #go to camera\n",
    "    p300.aspirate(150, microplates[0]['A1'].bottom(1))\n",
    "    p300.move_to(combe_move_right)\n",
    "    camera(source_name, protocol) #Overwrite the previous image file\n",
    "    completed_process = subprocess.run([\"python\", file_path] + arguments, capture_output=True, text=True)\n",
    "    output = completed_process.stdout\n",
    "    tips,liquids = detect(output)\n",
    "    match_boxes(tips,liquids,threshold)\n",
    "    p300.dispense(160, microplates[0]['A1'].bottom(1))\n",
    "    p300.return_tip(p300tips[0]['A1'])\n",
    "    protocol.home()\n",
    "    \n",
    "## Turn on lights while running run\n",
    "protocol.set_rail_lights(False)\n",
    "\n",
    "print('Your protocol is finished well done!')"
   ]
  },
  {
   "attachments": {},
   "cell_type": "markdown",
   "metadata": {},
   "source": [
    "# MY PLAN\n",
    "# tips no water\n",
    "# tips with water \n",
    "# tips with Red water \n",
    "# No tips on pipet\n",
    "# tipsEmptyResdual\n",
    "\n",
    "# tips with X(color) water \n",
    "\n",
    "HOW TO EXTRACT CODE FROM OT: \n",
    "- OPEN WSL OR UBUNTU ON YOUR COMPUTER\n",
    "- WRITE: sudo scp -i ot2_ssh_key -r root@10.199.253.233:/var/lib/jupyter/notebooks/Vilhelms_sandbox/pictures /mnt/c/Intel/\n",
    "- GO TO Intel folder on C drive on your computer and find the file there. "
   ]
  },
  {
   "attachments": {},
   "cell_type": "markdown",
   "metadata": {},
   "source": [
    "# with liquid level detection"
   ]
  },
  {
   "cell_type": "code",
   "execution_count": null,
   "metadata": {},
   "outputs": [],
   "source": []
  }
 ],
 "metadata": {
  "kernelspec": {
   "display_name": "Python 3 (ipykernel)",
   "language": "python",
   "name": "python3"
  },
  "language_info": {
   "codemirror_mode": {
    "name": "ipython",
    "version": 3
   },
   "file_extension": ".py",
   "mimetype": "text/x-python",
   "name": "python",
   "nbconvert_exporter": "python",
   "pygments_lexer": "ipython3",
   "version": "3.10.10"
  },
  "vscode": {
   "interpreter": {
    "hash": "6bc994cc37a7cc8253d60b1d36e8779e20c5990ee498caff788f1956921a521b"
   }
  }
 },
 "nbformat": 4,
 "nbformat_minor": 2
}
