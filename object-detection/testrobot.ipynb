{
 "cells": [
  {
   "cell_type": "code",
   "execution_count": 1,
   "metadata": {},
   "outputs": [
    {
     "name": "stdout",
     "output_type": "stream",
     "text": [
      "{'blue liquid': 8, 'tip-p300-2': 8} {'blue liquid': [{'bbox': [0.55078125, 0.5718749761581421, 0.02968749962747097, 0.2854166626930237]}, {'bbox': [0.37421876192092896, 0.5770833492279053, 0.02968749962747097, 0.28333333134651184]}, {'bbox': [0.25703126192092896, 0.581250011920929, 0.02968749962747097, 0.28333333134651184]}, {'bbox': [0.4320312440395355, 0.5770833492279053, 0.02968749962747097, 0.27916666865348816]}, {'bbox': [0.49140626192092896, 0.5739583373069763, 0.02968749962747097, 0.2854166626930237]}, {'bbox': [0.66796875, 0.5760416388511658, 0.03281249850988388, 0.2854166626930237]}, {'bbox': [0.31640625, 0.5770833492279053, 0.02968749962747097, 0.2750000059604645]}, {'bbox': [0.609375, 0.5718749761581421, 0.03125, 0.2770833373069763]}], 'red liquid': [], 'tip-p20-1': [], 'tip-p20-2': [], 'tip-p300-1': [], 'tip-p300-2': [{'bbox': [0.37421876192092896, 0.4583333432674408, 0.04531250149011612, 0.512499988079071]}, {'bbox': [0.4312500059604645, 0.4572916626930237, 0.05000000074505806, 0.518750011920929]}, {'bbox': [0.48906248807907104, 0.4583333432674408, 0.046875, 0.512499988079071]}, {'bbox': [0.659375011920929, 0.4572916626930237, 0.05000000074505806, 0.5104166865348816]}, {'bbox': [0.602343738079071, 0.45625001192092896, 0.04843749850988388, 0.5208333134651184]}, {'bbox': [0.3179687559604645, 0.4635416567325592, 0.04531250149011612, 0.5020833611488342]}, {'bbox': [0.2601562440395355, 0.4625000059604645, 0.04843749850988388, 0.5166666507720947]}, {'bbox': [0.5453125238418579, 0.45520833134651184, 0.046875, 0.5062500238418579]}], 'transparent liquid': []}\n"
     ]
    }
   ],
   "source": [
    "import subprocess\n",
    "import json\n",
    "\n",
    "\n",
    "file_path = 'D:\\\\thesis\\yolov5-master\\detect_label_single.py'\n",
    "source = 'D:\\\\thesis\\yolov5-master\\\\test-image\\\\test-different-type\\\\test2.jpg'\n",
    "\n",
    "arguments = [\"--source\", source,'--save-txt']\n",
    "\n",
    "completed_process1 = subprocess.run([\"python\", file_path] + arguments, capture_output=True, text=True)\n",
    "\n",
    "output = completed_process1.stdout.split('\\n')\n",
    "class_dict1 = output[0] \n",
    "bbox_dict1 = output[1]\n",
    "class_dict = json.loads(class_dict1) \n",
    "bbox_dict = json.loads(bbox_dict1)\n",
    "print(class_dict,bbox_dict)"
   ]
  },
  {
   "cell_type": "code",
   "execution_count": 2,
   "metadata": {},
   "outputs": [],
   "source": [
    "def find_key_value_by_keyword(dictionary, keyword):\n",
    "    key_value_dict = {key: value for key, value in dictionary.items() if keyword in key and value}\n",
    "    return key_value_dict"
   ]
  },
  {
   "cell_type": "code",
   "execution_count": 3,
   "metadata": {},
   "outputs": [
    {
     "name": "stdout",
     "output_type": "stream",
     "text": [
      "[[0.37421876192092896, 0.4583333432674408, 0.04531250149011612, 0.512499988079071], [0.4312500059604645, 0.4572916626930237, 0.05000000074505806, 0.518750011920929], [0.48906248807907104, 0.4583333432674408, 0.046875, 0.512499988079071], [0.659375011920929, 0.4572916626930237, 0.05000000074505806, 0.5104166865348816], [0.602343738079071, 0.45625001192092896, 0.04843749850988388, 0.5208333134651184], [0.3179687559604645, 0.4635416567325592, 0.04531250149011612, 0.5020833611488342], [0.2601562440395355, 0.4625000059604645, 0.04843749850988388, 0.5166666507720947], [0.5453125238418579, 0.45520833134651184, 0.046875, 0.5062500238418579]]\n"
     ]
    }
   ],
   "source": [
    "tips = find_key_value_by_keyword(bbox_dict, 'tip')\n",
    "tips = list(tips.values())\n",
    "tmp_tips = list()\n",
    "for tip in tips[0]:\n",
    "    tmp_tips.append(tip['bbox'])\n",
    "print(tmp_tips)"
   ]
  },
  {
   "cell_type": "code",
   "execution_count": 4,
   "metadata": {},
   "outputs": [
    {
     "name": "stdout",
     "output_type": "stream",
     "text": [
      "[[0.55078125, 0.5718749761581421, 0.02968749962747097, 0.2854166626930237], [0.37421876192092896, 0.5770833492279053, 0.02968749962747097, 0.28333333134651184], [0.25703126192092896, 0.581250011920929, 0.02968749962747097, 0.28333333134651184], [0.4320312440395355, 0.5770833492279053, 0.02968749962747097, 0.27916666865348816], [0.49140626192092896, 0.5739583373069763, 0.02968749962747097, 0.2854166626930237], [0.66796875, 0.5760416388511658, 0.03281249850988388, 0.2854166626930237], [0.31640625, 0.5770833492279053, 0.02968749962747097, 0.2750000059604645], [0.609375, 0.5718749761581421, 0.03125, 0.2770833373069763]]\n"
     ]
    }
   ],
   "source": [
    "liquids = find_key_value_by_keyword(bbox_dict, 'liquid')\n",
    "liquids = list(liquids.values())\n",
    "tmp_liquid = list()\n",
    "for liquid in liquids[0]:\n",
    "    tmp_liquid.append(liquid['bbox'])\n",
    "print(tmp_liquid)"
   ]
  },
  {
   "cell_type": "code",
   "execution_count": 27,
   "metadata": {},
   "outputs": [],
   "source": [
    "def match_boxes(boxes1, boxes2, threshold):\n",
    "    matched_boxes = []\n",
    "\n",
    "    for box1 in boxes1:\n",
    "        min_distance = float('inf')\n",
    "        matched_box = None\n",
    "\n",
    "        for box2 in boxes2:\n",
    "            distance = abs(box1[0] - box2[0])\n",
    "            if distance < min_distance:\n",
    "                min_distance = distance\n",
    "                matched_box = box2\n",
    "\n",
    "        if matched_box is not None:\n",
    "            liquid_level = abs(box1[1] / matched_box[1])\n",
    "            # 预警\n",
    "            if 0.8 * threshold < liquid_level < 1.1*threshold:\n",
    "                print('no warning')\n",
    "            else:\n",
    "                print(f'Warning: Liquid level is below the threshold! Current level: {liquid_level}')\n",
    "            matched_boxes.append((box1, matched_box))\n",
    "\n",
    "    return match_boxes"
   ]
  },
  {
   "cell_type": "code",
   "execution_count": 15,
   "metadata": {},
   "outputs": [],
   "source": [
    "import numpy as np"
   ]
  },
  {
   "cell_type": "code",
   "execution_count": 19,
   "metadata": {},
   "outputs": [],
   "source": [
    "def save_threshold(boxes1, boxes2):\n",
    "    matched_boxes = []\n",
    "    liquid_level_all = []\n",
    "\n",
    "    for box1 in boxes1:\n",
    "        min_distance = float('inf')\n",
    "        matched_box = None\n",
    "\n",
    "        for box2 in boxes2:\n",
    "            distance = abs(box1[0] - box2[0])\n",
    "            if distance < min_distance:\n",
    "                min_distance = distance\n",
    "                matched_box = box2\n",
    "\n",
    "        if matched_box is not None:\n",
    "            liquid_level = abs(box1[1] / matched_box[1])\n",
    "            matched_boxes.append((box1, matched_box))\n",
    "            liquid_level_all.append(liquid_level)\n",
    "    ### not use numpy\n",
    "    #total = sum(arr)\n",
    "    #length = len(arr)\n",
    "    #average = total / length\n",
    "    ###\n",
    "    liquid_level_mean = np.mean(liquid_level_all)\n",
    "    print(liquid_level_mean)\n",
    "\n",
    "    return liquid_level_mean"
   ]
  },
  {
   "cell_type": "code",
   "execution_count": 20,
   "metadata": {},
   "outputs": [
    {
     "name": "stdout",
     "output_type": "stream",
     "text": [
      "[0.7942238220538798]\n",
      "[0.7942238220538798, 0.7924187438518994]\n",
      "[0.7942238220538798, 0.7924187438518994, 0.7985481061534009]\n",
      "[0.7942238220538798, 0.7924187438518994, 0.7985481061534009, 0.7938517493371273]\n",
      "[0.7942238220538798, 0.7924187438518994, 0.7985481061534009, 0.7938517493371273, 0.797814261757033]\n",
      "[0.7942238220538798, 0.7924187438518994, 0.7985481061534009, 0.7938517493371273, 0.797814261757033, 0.8032490581347453]\n",
      "[0.7942238220538798, 0.7924187438518994, 0.7985481061534009, 0.7938517493371273, 0.797814261757033, 0.8032490581347453, 0.7956989186666567]\n",
      "[0.7942238220538798, 0.7924187438518994, 0.7985481061534009, 0.7938517493371273, 0.797814261757033, 0.8032490581347453, 0.7956989186666567, 0.7959927437367567]\n",
      "0.7964746754614374\n"
     ]
    }
   ],
   "source": [
    "threshold = save_threshold(tmp_tips,tmp_liquid)"
   ]
  },
  {
   "cell_type": "code",
   "execution_count": 29,
   "metadata": {},
   "outputs": [
    {
     "name": "stdout",
     "output_type": "stream",
     "text": [
      "Warning: Liquid level is below the threshold! Current level: 0.7942238220538798\n",
      "Warning: Liquid level is below the threshold! Current level: 0.7924187438518994\n",
      "Warning: Liquid level is below the threshold! Current level: 0.7985481061534009\n",
      "Warning: Liquid level is below the threshold! Current level: 0.7938517493371273\n",
      "Warning: Liquid level is below the threshold! Current level: 0.797814261757033\n",
      "Warning: Liquid level is below the threshold! Current level: 0.8032490581347453\n",
      "Warning: Liquid level is below the threshold! Current level: 0.7956989186666567\n",
      "Warning: Liquid level is below the threshold! Current level: 0.7959927437367567\n"
     ]
    }
   ],
   "source": [
    "match_boxes(tmp_tips,tmp_liquid,0.7)"
   ]
  }
 ],
 "metadata": {
  "kernelspec": {
   "display_name": "thesis",
   "language": "python",
   "name": "python3"
  },
  "language_info": {
   "codemirror_mode": {
    "name": "ipython",
    "version": 3
   },
   "file_extension": ".py",
   "mimetype": "text/x-python",
   "name": "python",
   "nbconvert_exporter": "python",
   "pygments_lexer": "ipython3",
   "version": "3.10.10"
  },
  "orig_nbformat": 4
 },
 "nbformat": 4,
 "nbformat_minor": 2
}
