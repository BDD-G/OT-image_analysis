{
 "cells": [
  {
   "cell_type": "code",
   "execution_count": 76,
   "metadata": {},
   "outputs": [],
   "source": [
    "import detection_functions as DF\n",
    "import cv2\n",
    "import os"
   ]
  },
  {
   "cell_type": "code",
   "execution_count": 107,
   "metadata": {},
   "outputs": [],
   "source": [
    "import subprocess\n",
    "import json\n",
    "\n",
    "\n",
    "file_path = 'D:\\github-upload\\OT_image_analysis\\object-detection\\detect_label_single.py'\n",
    "source ='D:\\github-upload\\OT_image_analysis\\\\14.04.2023 pictures\\\\tip_p20_transparent_10.jpg'\n",
    "\n",
    "arguments = [\"--source\", source]\n",
    "\n",
    "completed_process1 = subprocess.run([\"python\", file_path] + arguments, capture_output=True, text=True)\n"
   ]
  },
  {
   "cell_type": "code",
   "execution_count": 108,
   "metadata": {},
   "outputs": [
    {
     "name": "stdout",
     "output_type": "stream",
     "text": [
      "CompletedProcess(args=['python', 'D:\\\\github-upload\\\\OT_image_analysis\\\\object-detection\\\\detect_label_single.py', '--source', 'D:\\\\github-upload\\\\OT_image_analysis\\\\14.04.2023 pictures\\\\tip_p20_transparent_10.jpg'], returncode=0, stdout='{\"blue liquid\": [], \"red liquid\": [], \"tip-p20-1\": [{\"bbox\": [0.41015625, 0.590624988079071, 0.04531250149011612, 0.40625]}, {\"bbox\": [0.682812511920929, 0.5895833373069763, 0.05000000074505806, 0.40416666865348816]}, {\"bbox\": [0.47968751192092896, 0.5885416865348816, 0.046875, 0.4104166626930237]}, {\"bbox\": [0.6171875, 0.5916666388511658, 0.046875, 0.40416666865348816]}, {\"bbox\": [0.3414062559604645, 0.5916666388511658, 0.04531250149011612, 0.40833333134651184]}, {\"bbox\": [0.547656238079071, 0.5885416865348816, 0.04531250149011612, 0.4104166626930237]}, {\"bbox\": [0.2734375, 0.5885416865348816, 0.04374999925494194, 0.41458332538604736]}, {\"bbox\": [0.746874988079071, 0.5895833373069763, 0.05000000074505806, 0.4000000059604645]}], \"tip-p20-2\": [], \"tip-p300-1\": [], \"tip-p300-2\": [], \"transparent liquid\": [{\"bbox\": [0.2734375, 0.7041666507720947, 0.02187499962747097, 0.17916665971279144]}, {\"bbox\": [0.41093748807907104, 0.7020833492279053, 0.02187499962747097, 0.18333333730697632]}, {\"bbox\": [0.621874988079071, 0.7041666507720947, 0.02187499962747097, 0.18333333730697632]}, {\"bbox\": [0.547656238079071, 0.703125, 0.0234375, 0.1770833283662796]}, {\"bbox\": [0.6898437738418579, 0.703125, 0.0234375, 0.18541666865348816]}, {\"bbox\": [0.34062498807907104, 0.7020833492279053, 0.02187499962747097, 0.18333333730697632]}, {\"bbox\": [0.4781250059604645, 0.7052083611488342, 0.02187499962747097, 0.17291666567325592]}, {\"bbox\": [0.753125011920929, 0.7010416388511658, 0.02500000037252903, 0.18125000596046448]}]}\\n', stderr='\\x1b[34m\\x1b[1mdetect_label_single: \\x1b[0mweights=D:\\\\github-upload\\\\OT_image_analysis\\\\object-detection\\\\best-datav2.pt, source=D:\\\\github-upload\\\\OT_image_analysis\\\\14.04.2023 pictures\\\\tip_p20_transparent_10.jpg, data=D:\\\\thesis\\\\yolov5-master\\\\data\\\\tip-detect.yaml, imgsz=[640, 640], conf_thres=0.25, iou_thres=0.45, max_det=1000, device=, view_img=False, save_txt=False, save_conf=False, save_crop=False, nosave=False, classes=None, agnostic_nms=False, augment=False, visualize=False, update=False, project=..\\\\object-detection\\\\runs\\\\detect, name=exp, exist_ok=False, line_thickness=3, hide_labels=False, hide_conf=False, half=False, dnn=False, vid_stride=1\\nYOLOv5  2023-4-1 Python-3.10.10 torch-2.0.0 CUDA:0 (NVIDIA GeForce RTX 3070 Ti Laptop GPU, 8192MiB)\\n\\nFusing layers... \\ntip-detect summary: 157 layers, 1768636 parameters, 0 gradients, 4.2 GFLOPs\\nimage 1/1 D:\\\\github-upload\\\\OT_image_analysis\\\\14.04.2023 pictures\\\\tip_p20_transparent_10.jpg: 480x640 8 tip-p20-1s, 8 transparent liquids, 45.1ms\\nSpeed: 0.0ms pre-process, 45.1ms inference, 9.1ms NMS per image at shape (1, 3, 640, 640)\\nResults saved to \\x1b[1m..\\\\object-detection\\\\runs\\\\detect\\\\exp22\\x1b[0m\\n')\n",
      "{\"blue liquid\": [], \"red liquid\": [], \"tip-p20-1\": [{\"bbox\": [0.41015625, 0.590624988079071, 0.04531250149011612, 0.40625]}, {\"bbox\": [0.682812511920929, 0.5895833373069763, 0.05000000074505806, 0.40416666865348816]}, {\"bbox\": [0.47968751192092896, 0.5885416865348816, 0.046875, 0.4104166626930237]}, {\"bbox\": [0.6171875, 0.5916666388511658, 0.046875, 0.40416666865348816]}, {\"bbox\": [0.3414062559604645, 0.5916666388511658, 0.04531250149011612, 0.40833333134651184]}, {\"bbox\": [0.547656238079071, 0.5885416865348816, 0.04531250149011612, 0.4104166626930237]}, {\"bbox\": [0.2734375, 0.5885416865348816, 0.04374999925494194, 0.41458332538604736]}, {\"bbox\": [0.746874988079071, 0.5895833373069763, 0.05000000074505806, 0.4000000059604645]}], \"tip-p20-2\": [], \"tip-p300-1\": [], \"tip-p300-2\": [], \"transparent liquid\": [{\"bbox\": [0.2734375, 0.7041666507720947, 0.02187499962747097, 0.17916665971279144]}, {\"bbox\": [0.41093748807907104, 0.7020833492279053, 0.02187499962747097, 0.18333333730697632]}, {\"bbox\": [0.621874988079071, 0.7041666507720947, 0.02187499962747097, 0.18333333730697632]}, {\"bbox\": [0.547656238079071, 0.703125, 0.0234375, 0.1770833283662796]}, {\"bbox\": [0.6898437738418579, 0.703125, 0.0234375, 0.18541666865348816]}, {\"bbox\": [0.34062498807907104, 0.7020833492279053, 0.02187499962747097, 0.18333333730697632]}, {\"bbox\": [0.4781250059604645, 0.7052083611488342, 0.02187499962747097, 0.17291666567325592]}, {\"bbox\": [0.753125011920929, 0.7010416388511658, 0.02500000037252903, 0.18125000596046448]}]}\n",
      "\n"
     ]
    }
   ],
   "source": [
    "print(completed_process1)\n",
    "output = completed_process1.stdout\n",
    "print(output)\n"
   ]
  },
  {
   "cell_type": "code",
   "execution_count": 109,
   "metadata": {},
   "outputs": [
    {
     "data": {
      "text/plain": [
       "[[0.2734375, 0.7041666507720947, 0.02187499962747097, 0.17916665971279144],\n",
       " [0.41093748807907104,\n",
       "  0.7020833492279053,\n",
       "  0.02187499962747097,\n",
       "  0.18333333730697632],\n",
       " [0.621874988079071,\n",
       "  0.7041666507720947,\n",
       "  0.02187499962747097,\n",
       "  0.18333333730697632],\n",
       " [0.547656238079071, 0.703125, 0.0234375, 0.1770833283662796],\n",
       " [0.6898437738418579, 0.703125, 0.0234375, 0.18541666865348816],\n",
       " [0.34062498807907104,\n",
       "  0.7020833492279053,\n",
       "  0.02187499962747097,\n",
       "  0.18333333730697632],\n",
       " [0.4781250059604645,\n",
       "  0.7052083611488342,\n",
       "  0.02187499962747097,\n",
       "  0.17291666567325592],\n",
       " [0.753125011920929,\n",
       "  0.7010416388511658,\n",
       "  0.02500000037252903,\n",
       "  0.18125000596046448]]"
      ]
     },
     "execution_count": 109,
     "metadata": {},
     "output_type": "execute_result"
    }
   ],
   "source": [
    "tips,liquids = DF.detect(output)\n",
    "liquids"
   ]
  },
  {
   "cell_type": "code",
   "execution_count": 118,
   "metadata": {},
   "outputs": [],
   "source": [
    "def colour(bbox_coordinates,source):\n",
    "    image = cv2.imread(source)\n",
    "    image_hsv = cv2.cvtColor(image, cv2.COLOR_BGR2HSV)\n",
    "    for i, bbox in enumerate(bbox_coordinates):\n",
    "        x, y, _, _ = bbox\n",
    "        image_height, image_width, _ = image.shape\n",
    "\n",
    "        # 计算边界框的中心点坐标\n",
    "        center_x = int(x*image_width)\n",
    "        center_y = int(y*image_height)\n",
    "\n",
    "        # 提取中心点位置的颜色值（使用HSV颜色空间）\n",
    "        color_hsv = image_hsv[center_y, center_x]\n",
    "        h, s, v = color_hsv\n",
    "        \n",
    "        if s < 40:\n",
    "            colour = \"Transparent\"\n",
    "        else:\n",
    "            # 根据H值确定颜色标签\n",
    "            colour = \"Undefined\"\n",
    "            if 0 <= h < 5:\n",
    "                colour = \"Red\"\n",
    "            elif 5 <= h < 22:\n",
    "                colour = \"Orange\"\n",
    "            elif 22 <= h < 33:\n",
    "                colour = \"Yellow\"\n",
    "            elif 33 <= h < 73:\n",
    "                colour = \"Green\"\n",
    "            elif 73 <= h < 131:\n",
    "                colour = \"Blue\"\n",
    "            elif 131 <= h < 167:\n",
    "                colour = \"Violet\"\n",
    "            else:\n",
    "                colour = \"Red\"\n",
    "\n",
    "        \n",
    "        # 在图像上标记中心点\n",
    "        cv2.circle(image, (center_x,center_y), 2, (255, 0, 0), -1)  # 以红色填充的圆形标记\n",
    "        cv2.putText(image, colour, (center_x, center_y), cv2.FONT_HERSHEY_SIMPLEX, 0.6, (255, 0, 0), 1)\n",
    "\n",
    "        print(\"colour of tip {}: {}\".format(i+1, colour))\n",
    "        print(h,s,v)\n",
    "        \n",
    "     # 获取更改路径和源文件名称\n",
    "    output_dir = \"D:\\github-upload\\OT_image_analysis\\object-detection\\marked_image\"\n",
    "    filename = os.path.basename(source)\n",
    "    output_path = os.path.join(output_dir, \"marked_\" + filename)\n",
    "    print(output_path)\n",
    "\n",
    "    cv2.imwrite(output_path, image)  # 保存到更改路径和源文件名称的图像"
   ]
  },
  {
   "cell_type": "code",
   "execution_count": 119,
   "metadata": {},
   "outputs": [
    {
     "name": "stdout",
     "output_type": "stream",
     "text": [
      "colour of tip 1: Transparent\n",
      "125 13 209\n",
      "colour of tip 2: Transparent\n",
      "105 28 164\n",
      "colour of tip 3: Transparent\n",
      "105 27 192\n",
      "colour of tip 4: Transparent\n",
      "110 34 137\n",
      "colour of tip 5: Transparent\n",
      "108 28 153\n",
      "colour of tip 6: Transparent\n",
      "125 14 205\n",
      "colour of tip 7: Transparent\n",
      "116 17 206\n",
      "colour of tip 8: Transparent\n",
      "101 34 157\n",
      "D:\\github-upload\\OT_image_analysis\\object-detection\\marked_image\\marked_tip_p20_transparent_10.jpg\n"
     ]
    }
   ],
   "source": [
    "colour(liquids,source)"
   ]
  }
 ],
 "metadata": {
  "kernelspec": {
   "display_name": "thesis",
   "language": "python",
   "name": "python3"
  },
  "language_info": {
   "codemirror_mode": {
    "name": "ipython",
    "version": 3
   },
   "file_extension": ".py",
   "mimetype": "text/x-python",
   "name": "python",
   "nbconvert_exporter": "python",
   "pygments_lexer": "ipython3",
   "version": "3.10.10"
  },
  "orig_nbformat": 4
 },
 "nbformat": 4,
 "nbformat_minor": 2
}
